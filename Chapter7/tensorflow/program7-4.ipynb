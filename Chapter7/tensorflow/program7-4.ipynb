{
 "cells": [
  {
   "cell_type": "code",
   "execution_count": null,
   "id": "eb8d2b5b",
   "metadata": {},
   "outputs": [],
   "source": [
    "import numpy as np\n",
    "import tensorflow as tf\n",
    "import tensorflow.keras.datasets as ds\n",
    "from tensorflow.keras.models import Sequential\n",
    "from tensorflow.keras.layers import Dense\n",
    "from tensorflow.keras.optimizers import SGD, Adam"
   ]
  },
  {
   "cell_type": "code",
   "execution_count": null,
   "id": "81cc3c7a",
   "metadata": {},
   "outputs": [],
   "source": [
    "(X_train, y_train), (X_test, y_test) = ds.mnist.load_data()\n",
    "X_train = X_train.reshape(60000,784)\n",
    "X_test = X_test.reshape(10000,784)\n",
    "X_train = X_train.astype(np.float32) / 255.0\n",
    "X_test = X_test.astype(np.float32) / 255.0\n",
    "y_train = tf.keras.utils.to_categorical(y_train, 10)\n",
    "y_test = tf.keras.utils.to_categorical(y_test, 10)"
   ]
  },
  {
   "cell_type": "code",
   "execution_count": null,
   "id": "0ae187f5",
   "metadata": {},
   "outputs": [],
   "source": [
    "mlp_sgd = Sequential()\n",
    "mlp_sgd.add(Dense(units=512, activation=\"tanh\", input_shape=(784,)))\n",
    "mlp_sgd.add(Dense(units=10, activation=\"softmax\"))"
   ]
  },
  {
   "cell_type": "code",
   "execution_count": null,
   "id": "f01a4791",
   "metadata": {
    "scrolled": true
   },
   "outputs": [],
   "source": [
    "mlp_sgd.compile(loss=\"MSE\", optimizer=SGD(learning_rate=0.01), metrics=[\"accuracy\"])\n",
    "hist_sgd = mlp_sgd.fit(X_train, y_train, batch_size=128, epochs=50, validation_data=(X_test, y_test), verbose=2)\n",
    "print(f\"정확률 = {mlp_sgd.evaluate(X_test, y_test, verbose=0)[1]*100}\")"
   ]
  },
  {
   "cell_type": "code",
   "execution_count": null,
   "id": "f806e3f8",
   "metadata": {},
   "outputs": [],
   "source": [
    "mlp_adam = Sequential()\n",
    "mlp_adam.add(Dense(units=512, activation=\"tanh\", input_shape=(784,)))\n",
    "mlp_adam.add(Dense(units=10, activation=\"softmax\"))"
   ]
  },
  {
   "cell_type": "code",
   "execution_count": null,
   "id": "9fa4ff26",
   "metadata": {},
   "outputs": [],
   "source": [
    "mlp_adam.compile(loss=\"MSE\", optimizer=Adam(learning_rate=0.001), metrics=[\"accuracy\"])\n",
    "hist_adam = mlp_adam.fit(X_train, y_train, batch_size=128, epochs=50, validation_data=(X_test, y_test), verbose=2)\n",
    "print(f\"정확률 = {mlp_adam.evaluate(X_test, y_test, verbose=0)[1]*100}\")"
   ]
  },
  {
   "cell_type": "code",
   "execution_count": null,
   "id": "48a05db6",
   "metadata": {},
   "outputs": [],
   "source": [
    "import matplotlib.pyplot as plt"
   ]
  },
  {
   "cell_type": "code",
   "execution_count": null,
   "id": "909ed3b5",
   "metadata": {},
   "outputs": [],
   "source": [
    "plt.plot(hist_sgd.history[\"accuracy\"], \"r--\")\n",
    "plt.plot(hist_sgd.history[\"val_accuracy\"], \"r\")\n",
    "plt.plot(hist_adam.history[\"accuracy\"], \"b--\")\n",
    "plt.plot(hist_adam.history[\"val_accuracy\"], \"b\")\n",
    "plt.title(\"Comparison of SGD and Adam optimizers\")\n",
    "plt.ylim((0.7,1.0))\n",
    "plt.xlabel(\"epochs\")\n",
    "plt.ylabel(\"accuracy\")\n",
    "plt.legend([\"train_sgd\", \"val_sgd\", \"train_adam\", \"val_adam\"])\n",
    "plt.grid()\n",
    "plt.show()"
   ]
  }
 ],
 "metadata": {
  "kernelspec": {
   "display_name": "Python 3 (ipykernel)",
   "language": "python",
   "name": "python3"
  },
  "language_info": {
   "codemirror_mode": {
    "name": "ipython",
    "version": 3
   },
   "file_extension": ".py",
   "mimetype": "text/x-python",
   "name": "python",
   "nbconvert_exporter": "python",
   "pygments_lexer": "ipython3",
   "version": "3.11.3"
  }
 },
 "nbformat": 4,
 "nbformat_minor": 5
}
