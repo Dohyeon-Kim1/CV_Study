{
 "cells": [
  {
   "cell_type": "code",
   "execution_count": null,
   "id": "245716c9",
   "metadata": {},
   "outputs": [],
   "source": [
    "import torchvision.datasets as ds\n",
    "import torchvision.transforms as transforms\n",
    "import numpy as np\n",
    "import matplotlib.pyplot as plt"
   ]
  },
  {
   "cell_type": "code",
   "execution_count": null,
   "id": "2e953827",
   "metadata": {},
   "outputs": [],
   "source": [
    "mnist_train = ds.MNIST(root=\".\", train=True, transform=transforms.ToTensor(), download=True)\n",
    "mnist_test = ds.MNIST(root=\".\", train=False, transform=transforms.ToTensor(), download=True)\n",
    "X_train = mnist_train.data\n",
    "y_train = mnist_train.targets\n",
    "X_test = mnist_test.data\n",
    "y_test = mnist_test.targets\n",
    "print(f\"X_train shape: {X_train.shape}\")\n",
    "print(f\"y_train shape: {y_train.shape}\")\n",
    "print(f\"X_test shape: {X_test.shape}\")\n",
    "print(f\"y_test shape: {y_test.shape}\")"
   ]
  },
  {
   "cell_type": "code",
   "execution_count": null,
   "id": "95c3c15a",
   "metadata": {},
   "outputs": [],
   "source": [
    "plt.figure(figsize=(24,3))\n",
    "plt.suptitle(\"MNIST\", fontsize=30)\n",
    "for i in range(10):\n",
    "    plt.subplot(1,10,i+1)\n",
    "    plt.imshow(X_train[i], cmap=\"gray\")\n",
    "    plt.xticks([])\n",
    "    plt.yticks([])\n",
    "    plt.title(str(y_train[i].item()), fontsize=30)\n",
    "plt.show()"
   ]
  },
  {
   "cell_type": "code",
   "execution_count": null,
   "id": "26559ce6",
   "metadata": {},
   "outputs": [],
   "source": [
    "cifar10_train = ds.CIFAR10(root=\"CIFAR10/\", train=True, transform=transforms.ToTensor(), download=True)\n",
    "cifar10_test = ds.CIFAR10(root=\"CIFAR10/\", train=False, transform=transforms.ToTensor(), download=True)\n",
    "X_train = cifar10_train.data\n",
    "y_train = np.array(cifar10_train.targets)\n",
    "X_test = cifar10_test.data\n",
    "y_test = np.array(cifar10_test.targets)\n",
    "print(f\"X_train shape: {X_train.shape}\")\n",
    "print(f\"y_train shape: {y_train.shape}\")\n",
    "print(f\"X_test shape: {X_test.shape}\")\n",
    "print(f\"y_test shape: {y_test.shape}\")"
   ]
  },
  {
   "cell_type": "code",
   "execution_count": null,
   "id": "04e0a72c",
   "metadata": {},
   "outputs": [],
   "source": [
    "class_names = [\"airplane\", \"car\", \"bird\", \"cat\", \"deer\", \"dog\", \"frog\", \"horse\", \"ship\", \"truck\"]\n",
    "plt.figure(figsize=(24,3))\n",
    "plt.suptitle(\"CIFAR-10\", fontsize=30)\n",
    "for i in range(10):\n",
    "    plt.subplot(1,10,i+1)\n",
    "    plt.imshow(X_train[i])\n",
    "    plt.xticks([])\n",
    "    plt.yticks([])\n",
    "    plt.title(class_names[y_train[i]], fontsize=30)\n",
    "plt.show()"
   ]
  }
 ],
 "metadata": {
  "kernelspec": {
   "display_name": "Python 3 (ipykernel)",
   "language": "python",
   "name": "python3"
  },
  "language_info": {
   "codemirror_mode": {
    "name": "ipython",
    "version": 3
   },
   "file_extension": ".py",
   "mimetype": "text/x-python",
   "name": "python",
   "nbconvert_exporter": "python",
   "pygments_lexer": "ipython3",
   "version": "3.11.3"
  }
 },
 "nbformat": 4,
 "nbformat_minor": 5
}
