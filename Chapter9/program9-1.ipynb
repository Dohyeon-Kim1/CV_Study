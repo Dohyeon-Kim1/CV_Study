{
 "cells": [
  {
   "cell_type": "code",
   "execution_count": null,
   "id": "8d49d2ea",
   "metadata": {},
   "outputs": [],
   "source": [
    "import numpy as np\n",
    "import cv2 as cv\n",
    "from PIL import Image"
   ]
  },
  {
   "cell_type": "code",
   "execution_count": null,
   "id": "3cfda6ad",
   "metadata": {},
   "outputs": [],
   "source": [
    "def construct_yolo_v3():\n",
    "    f = open('coco_names.txt', 'r')\n",
    "    class_names = [line.strip() for line in f.readlines()]\n",
    "\n",
    "    model = cv.dnn.readNet('yolov3.weights', 'yolov3.cfg')\n",
    "    layer_names = model.getLayerNames()\n",
    "    out_layers = [layer_names[i-1] for i in model.getUnconnectedOutLayers()]\n",
    "    \n",
    "    return model,out_layers,class_names"
   ]
  },
  {
   "cell_type": "code",
   "execution_count": null,
   "id": "0a338eca",
   "metadata": {},
   "outputs": [],
   "source": [
    "def yolo_detect(img, yolo_model, out_layers):\n",
    "    height, width = img.shape[0], img.shape[1]\n",
    "    test_img = cv.dnn.blobFromImage(img, 1.0/256, (448,448), (0,0,0), swapRB=True)\n",
    "    \n",
    "    yolo_model.setInput(test_img)\n",
    "    output3 = yolo_model.forward(out_layers)\n",
    "    \n",
    "    box, conf, id = [], [], []   # 박스, 신뢰도, 부류 번호\n",
    "    for output in output3:\n",
    "        for vec85 in output:\n",
    "            scores = vec85[5:]\n",
    "            class_id = np.argmax(scores)\n",
    "            confidence = scores[class_id]\n",
    "            if confidence>0.5:   # 신뢰도가 50% 이상인 경우만 취함\n",
    "                centerx, centery = int(vec85[0]*width), int(vec85[1]*height)\n",
    "                w, h = int(vec85[2]*width), int(vec85[3]*height)\n",
    "                x, y = int(centerx-w/2), int(centery-h/2)\n",
    "                box.append([x, y, x+w, y+h])\n",
    "                conf.append(float(confidence))\n",
    "                id.append(class_id)\n",
    "            \n",
    "    ind = cv.dnn.NMSBoxes(box, conf, 0.5, 0.4)\n",
    "    objects = [box[i]+[conf[i]]+[id[i]] for i in range(len(box)) if i in ind]\n",
    "    return objects"
   ]
  },
  {
   "cell_type": "code",
   "execution_count": null,
   "id": "2fcdc828",
   "metadata": {},
   "outputs": [],
   "source": [
    "model, out_layers, class_names = construct_yolo_v3()             # YOLO 모델 생성\n",
    "colors = np.random.uniform(0, 255, size=(len(class_names),3))    # 부류마다 색깔"
   ]
  },
  {
   "cell_type": "code",
   "execution_count": null,
   "id": "74cff769",
   "metadata": {},
   "outputs": [],
   "source": [
    "img = cv.imread('soccer.jpg')\n",
    "res = yolo_detect(img, model, out_layers)  # YOLO 모델로 물체 검출"
   ]
  },
  {
   "cell_type": "code",
   "execution_count": null,
   "id": "f97f46ef",
   "metadata": {},
   "outputs": [],
   "source": [
    "for i in range(len(res)):         # 검출된 물체를 영상에 표시\n",
    "    x1, y1, x2, y2, confidence, id = res[i]\n",
    "    text = str(class_names[id])+'%.3f'%confidence\n",
    "    cv.rectangle(img, (x1,y1), (x2,y2), colors[id], 2)\n",
    "    cv.putText(img, text, (x1,y1+30), cv.FONT_HERSHEY_PLAIN, 1.5, colors[id] ,2)"
   ]
  },
  {
   "cell_type": "code",
   "execution_count": null,
   "id": "254d6bc6",
   "metadata": {},
   "outputs": [],
   "source": [
    "Image.fromarray(img[:,:,::-1])"
   ]
  }
 ],
 "metadata": {
  "kernelspec": {
   "display_name": "Python 3 (ipykernel)",
   "language": "python",
   "name": "python3"
  },
  "language_info": {
   "codemirror_mode": {
    "name": "ipython",
    "version": 3
   },
   "file_extension": ".py",
   "mimetype": "text/x-python",
   "name": "python",
   "nbconvert_exporter": "python",
   "pygments_lexer": "ipython3",
   "version": "3.11.3"
  },
  "widgets": {
   "application/vnd.jupyter.widget-state+json": {
    "state": {},
    "version_major": 2,
    "version_minor": 0
   }
  }
 },
 "nbformat": 4,
 "nbformat_minor": 5
}
